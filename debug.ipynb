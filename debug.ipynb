{
 "cells": [
  {
   "cell_type": "code",
   "execution_count": 1,
   "metadata": {
    "collapsed": true
   },
   "outputs": [],
   "source": [
    "import numpy as np\n",
    "import pandas as pd\n",
    "\n",
    "dn = '/Users/aa/lab/kaggle/couponpurchase/data/'"
   ]
  },
  {
   "cell_type": "code",
   "execution_count": 2,
   "metadata": {
    "collapsed": true
   },
   "outputs": [],
   "source": [
    "import csv\n",
    "\n",
    "def read_csv_purchases(fn):\n",
    "    ret = []\n",
    "    with open(fn, 'r') as f:\n",
    "        a = csv.reader(f)\n",
    "        next(a)\n",
    "        for row in a:\n",
    "            ret.append(row[1].split(' ') if row[1] else [])\n",
    "    return ret"
   ]
  },
  {
   "cell_type": "code",
   "execution_count": 22,
   "metadata": {
    "collapsed": false,
    "scrolled": true
   },
   "outputs": [],
   "source": [
    "actual = read_csv_purchases('actual-010.csv')\n",
    "predicted = read_csv_purchases('archive/output-012b.csv')"
   ]
  },
  {
   "cell_type": "markdown",
   "metadata": {},
   "source": [
    "#### Users with min 1 correct prediction"
   ]
  },
  {
   "cell_type": "code",
   "execution_count": 39,
   "metadata": {
    "collapsed": false
   },
   "outputs": [
    {
     "data": {
      "text/plain": [
       "650"
      ]
     },
     "execution_count": 39,
     "metadata": {},
     "output_type": "execute_result"
    }
   ],
   "source": [
    "sum([1 for a,b in zip(actual, predicted) if len(set(a).intersection(set(b))) > 0])"
   ]
  },
  {
   "cell_type": "code",
   "execution_count": 62,
   "metadata": {
    "collapsed": false
   },
   "outputs": [],
   "source": [
    "usrid_nopred = [i for i,(a,b) in enumerate(zip(actual, predicted)) if len(set(a).intersection(set(b))) == 0 and len(a) > 0]\n",
    "usrid_okpred = [i for i,(a,b) in enumerate(zip(actual, predicted)) if len(set(a).intersection(set(b))) > 0 and len(a) > 0]"
   ]
  },
  {
   "cell_type": "markdown",
   "metadata": {},
   "source": [
    "#### Data setup"
   ]
  },
  {
   "cell_type": "code",
   "execution_count": 100,
   "metadata": {
    "collapsed": true
   },
   "outputs": [],
   "source": [
    "users = pd.read_csv(dn+'common/user_list.csv', parse_dates=['REG_DATE', 'WITHDRAW_DATE'])\n",
    "usr_nopred = users.iloc[usrid_nopred]\n",
    "usr_okpred = users.iloc[usrid_okpred]\n",
    "prch = pd.read_csv(dn+'train/coupon_detail_train.csv', parse_dates=['I_DATE'])"
   ]
  },
  {
   "cell_type": "markdown",
   "metadata": {},
   "source": [
    "#### How many items did nopred users purchase -vs- okpred users"
   ]
  },
  {
   "cell_type": "code",
   "execution_count": 102,
   "metadata": {
    "collapsed": false
   },
   "outputs": [
    {
     "data": {
      "text/plain": [
       "<matplotlib.axes._subplots.AxesSubplot at 0x1127a9550>"
      ]
     },
     "execution_count": 102,
     "metadata": {},
     "output_type": "execute_result"
    },
    {
     "data": {
      "image/png": "[encoded data removed]",
      "text/plain": [
       "<matplotlib.figure.Figure at 0x1137b6a20>"
      ]
     },
     "metadata": {},
     "output_type": "display_data"
    }
   ],
   "source": [
    "from matplotlib import pyplot as plt\n",
    "fig, ax = plt.subplots(1,2, sharex=True, sharey=True)\n",
    "fig.set_size_inches(15,3)\n",
    "prch[prch.USER_ID_hash.isin(usr_nopred.USER_ID_hash)].groupby('USER_ID_hash').COUPON_ID_hash.count().hist(ax=ax[0], \n",
    "                                                                                                          bins=np.arange(0,120,3))\n",
    "prch[prch.USER_ID_hash.isin(usr_okpred.USER_ID_hash)].groupby('USER_ID_hash').COUPON_ID_hash.count().hist(ax=ax[1], \n",
    "                                                                                                          bins=np.arange(0,120,3))"
   ]
  },
  {
   "cell_type": "markdown",
   "metadata": {},
   "source": [
    "#### What other differences exist between users in nopred -vs- okpred"
   ]
  },
  {
   "cell_type": "code",
   "execution_count": 111,
   "metadata": {
    "collapsed": false,
    "scrolled": false
   },
   "outputs": [
    {
     "name": "stdout",
     "output_type": "stream",
     "text": [
      "f    715\n",
      "m    423\n",
      "dtype: int64\n",
      "f    383\n",
      "m    267\n",
      "dtype: int64\n",
      "F/M ratio: nopred=1.690, okpred=1.434\n",
      "1098 690\n"
     ]
    }
   ],
   "source": [
    "print(usr_nopred.SEX_ID.value_counts())\n",
    "print(usr_okpred.SEX_ID.value_counts())\n",
    "print('F/M ratio: nopred={:.3f}, okpred={:.3f}'.format(715/423, 383/267))\n",
    "print(715+383, 423+267)"
   ]
  },
  {
   "cell_type": "code",
   "execution_count": 123,
   "metadata": {
    "collapsed": true
   },
   "outputs": [],
   "source": [
    "df = pd.DataFrame({'a':[0,1,2,3,4,4], 'b':[1,2,2,3,1,3], 'c':[10,10,20,30,40,10]})"
   ]
  },
  {
   "cell_type": "code",
   "execution_count": 124,
   "metadata": {
    "collapsed": false
   },
   "outputs": [
    {
     "data": {
      "text/html": [
       "<div>\n",
       "<table border=\"1\" class=\"dataframe\">\n",
       "  <thead>\n",
       "    <tr style=\"text-align: right;\">\n",
       "      <th></th>\n",
       "      <th>a</th>\n",
       "      <th>b</th>\n",
       "      <th>c</th>\n",
       "    </tr>\n",
       "  </thead>\n",
       "  <tbody>\n",
       "    <tr>\n",
       "      <th>0</th>\n",
       "      <td>0</td>\n",
       "      <td>1</td>\n",
       "      <td>10</td>\n",
       "    </tr>\n",
       "    <tr>\n",
       "      <th>1</th>\n",
       "      <td>1</td>\n",
       "      <td>2</td>\n",
       "      <td>10</td>\n",
       "    </tr>\n",
       "    <tr>\n",
       "      <th>2</th>\n",
       "      <td>2</td>\n",
       "      <td>2</td>\n",
       "      <td>20</td>\n",
       "    </tr>\n",
       "    <tr>\n",
       "      <th>3</th>\n",
       "      <td>3</td>\n",
       "      <td>3</td>\n",
       "      <td>30</td>\n",
       "    </tr>\n",
       "    <tr>\n",
       "      <th>4</th>\n",
       "      <td>4</td>\n",
       "      <td>1</td>\n",
       "      <td>40</td>\n",
       "    </tr>\n",
       "    <tr>\n",
       "      <th>5</th>\n",
       "      <td>4</td>\n",
       "      <td>3</td>\n",
       "      <td>10</td>\n",
       "    </tr>\n",
       "  </tbody>\n",
       "</table>\n",
       "</div>"
      ],
      "text/plain": [
       "   a  b   c\n",
       "0  0  1  10\n",
       "1  1  2  10\n",
       "2  2  2  20\n",
       "3  3  3  30\n",
       "4  4  1  40\n",
       "5  4  3  10"
      ]
     },
     "execution_count": 124,
     "metadata": {},
     "output_type": "execute_result"
    }
   ],
   "source": [
    "df"
   ]
  },
  {
   "cell_type": "code",
   "execution_count": 118,
   "metadata": {
    "collapsed": false
   },
   "outputs": [
    {
     "data": {
      "text/html": [
       "<div>\n",
       "<table border=\"1\" class=\"dataframe\">\n",
       "  <thead>\n",
       "    <tr style=\"text-align: right;\">\n",
       "      <th>b</th>\n",
       "      <th>1</th>\n",
       "      <th>2</th>\n",
       "      <th>3</th>\n",
       "    </tr>\n",
       "    <tr>\n",
       "      <th>a</th>\n",
       "      <th></th>\n",
       "      <th></th>\n",
       "      <th></th>\n",
       "    </tr>\n",
       "  </thead>\n",
       "  <tbody>\n",
       "    <tr>\n",
       "      <th>0</th>\n",
       "      <td>10</td>\n",
       "      <td>0</td>\n",
       "      <td>0</td>\n",
       "    </tr>\n",
       "    <tr>\n",
       "      <th>1</th>\n",
       "      <td>0</td>\n",
       "      <td>10</td>\n",
       "      <td>0</td>\n",
       "    </tr>\n",
       "    <tr>\n",
       "      <th>2</th>\n",
       "      <td>0</td>\n",
       "      <td>20</td>\n",
       "      <td>0</td>\n",
       "    </tr>\n",
       "    <tr>\n",
       "      <th>3</th>\n",
       "      <td>0</td>\n",
       "      <td>0</td>\n",
       "      <td>30</td>\n",
       "    </tr>\n",
       "    <tr>\n",
       "      <th>4</th>\n",
       "      <td>40</td>\n",
       "      <td>0</td>\n",
       "      <td>10</td>\n",
       "    </tr>\n",
       "  </tbody>\n",
       "</table>\n",
       "</div>"
      ],
      "text/plain": [
       "b   1   2   3\n",
       "a            \n",
       "0  10   0   0\n",
       "1   0  10   0\n",
       "2   0  20   0\n",
       "3   0   0  30\n",
       "4  40   0  10"
      ]
     },
     "execution_count": 118,
     "metadata": {},
     "output_type": "execute_result"
    }
   ],
   "source": [
    "df.pivot(index='a', columns='b', values='c').fillna(0)"
   ]
  },
  {
   "cell_type": "code",
   "execution_count": 130,
   "metadata": {
    "collapsed": false
   },
   "outputs": [
    {
     "data": {
      "text/html": [
       "<div>\n",
       "<table border=\"1\" class=\"dataframe\">\n",
       "  <thead>\n",
       "    <tr>\n",
       "      <th></th>\n",
       "      <th colspan=\"3\" halign=\"left\">len</th>\n",
       "    </tr>\n",
       "    <tr>\n",
       "      <th></th>\n",
       "      <th colspan=\"3\" halign=\"left\">c</th>\n",
       "    </tr>\n",
       "    <tr>\n",
       "      <th>b</th>\n",
       "      <th>1</th>\n",
       "      <th>2</th>\n",
       "      <th>3</th>\n",
       "    </tr>\n",
       "    <tr>\n",
       "      <th>a</th>\n",
       "      <th></th>\n",
       "      <th></th>\n",
       "      <th></th>\n",
       "    </tr>\n",
       "  </thead>\n",
       "  <tbody>\n",
       "    <tr>\n",
       "      <th>0</th>\n",
       "      <td>1</td>\n",
       "      <td>0</td>\n",
       "      <td>0</td>\n",
       "    </tr>\n",
       "    <tr>\n",
       "      <th>1</th>\n",
       "      <td>0</td>\n",
       "      <td>1</td>\n",
       "      <td>0</td>\n",
       "    </tr>\n",
       "    <tr>\n",
       "      <th>2</th>\n",
       "      <td>0</td>\n",
       "      <td>1</td>\n",
       "      <td>0</td>\n",
       "    </tr>\n",
       "    <tr>\n",
       "      <th>3</th>\n",
       "      <td>0</td>\n",
       "      <td>0</td>\n",
       "      <td>1</td>\n",
       "    </tr>\n",
       "    <tr>\n",
       "      <th>4</th>\n",
       "      <td>1</td>\n",
       "      <td>0</td>\n",
       "      <td>1</td>\n",
       "    </tr>\n",
       "  </tbody>\n",
       "</table>\n",
       "</div>"
      ],
      "text/plain": [
       "  len      \n",
       "    c      \n",
       "b   1  2  3\n",
       "a          \n",
       "0   1  0  0\n",
       "1   0  1  0\n",
       "2   0  1  0\n",
       "3   0  0  1\n",
       "4   1  0  1"
      ]
     },
     "execution_count": 130,
     "metadata": {},
     "output_type": "execute_result"
    }
   ],
   "source": [
    "df.pivot_table(index='a', columns='b', aggfunc=[len], fill_value=0)"
   ]
  },
  {
   "cell_type": "code",
   "execution_count": 144,
   "metadata": {
    "collapsed": false
   },
   "outputs": [
    {
     "name": "stdout",
     "output_type": "stream",
     "text": [
      "    a   b\n",
      "0  c1  CA\n",
      "1  c2  NJ\n",
      "2  c3  NY\n",
      "3  c4  CA\n",
      "4  c4  WA\n",
      "    a   b\n",
      "0  d1  CA\n",
      "1  d2  NJ\n",
      "2  d3  NY\n",
      "    b_CA  b_NJ  b_NY  b_WA\n",
      "a                         \n",
      "c1     1     0     0     0\n",
      "c2     0     1     0     0\n",
      "c3     0     0     1     0\n",
      "c4     1     0     0     0\n",
      "c4     0     0     0     1\n",
      "    b_CA  b_NJ  b_NY  b_WA\n",
      "a                         \n",
      "d1     1     0     0     0\n",
      "d2     0     1     0     0\n",
      "d3     0     0     1     0\n"
     ]
    },
    {
     "data": {
      "text/html": [
       "<div>\n",
       "<table border=\"1\" class=\"dataframe\">\n",
       "  <thead>\n",
       "    <tr style=\"text-align: right;\">\n",
       "      <th></th>\n",
       "      <th>b_CA</th>\n",
       "      <th>b_NJ</th>\n",
       "      <th>b_NY</th>\n",
       "      <th>b_WA</th>\n",
       "    </tr>\n",
       "    <tr>\n",
       "      <th>a</th>\n",
       "      <th></th>\n",
       "      <th></th>\n",
       "      <th></th>\n",
       "      <th></th>\n",
       "    </tr>\n",
       "  </thead>\n",
       "  <tbody>\n",
       "    <tr>\n",
       "      <th>c1</th>\n",
       "      <td>1</td>\n",
       "      <td>0</td>\n",
       "      <td>0</td>\n",
       "      <td>0</td>\n",
       "    </tr>\n",
       "    <tr>\n",
       "      <th>c2</th>\n",
       "      <td>0</td>\n",
       "      <td>1</td>\n",
       "      <td>0</td>\n",
       "      <td>0</td>\n",
       "    </tr>\n",
       "    <tr>\n",
       "      <th>c3</th>\n",
       "      <td>0</td>\n",
       "      <td>0</td>\n",
       "      <td>1</td>\n",
       "      <td>0</td>\n",
       "    </tr>\n",
       "    <tr>\n",
       "      <th>c4</th>\n",
       "      <td>1</td>\n",
       "      <td>0</td>\n",
       "      <td>0</td>\n",
       "      <td>1</td>\n",
       "    </tr>\n",
       "  </tbody>\n",
       "</table>\n",
       "</div>"
      ],
      "text/plain": [
       "    b_CA  b_NJ  b_NY  b_WA\n",
       "a                         \n",
       "c1     1     0     0     0\n",
       "c2     0     1     0     0\n",
       "c3     0     0     1     0\n",
       "c4     1     0     0     1"
      ]
     },
     "execution_count": 144,
     "metadata": {},
     "output_type": "execute_result"
    }
   ],
   "source": [
    "from sklearn.feature_extraction import DictVectorizer\n",
    "\n",
    "def encode_categorical(dftrain, dftest, cols):\n",
    "    vec = DictVectorizer(separator='_')\n",
    "    v_dftrain = pd.DataFrame(vec.fit_transform(dftrain[cols].to_dict(orient='records')).toarray())\n",
    "    v_dftest = pd.DataFrame(vec.transform(dftest[cols].to_dict(orient='records')).toarray())\n",
    "    \n",
    "    v_dftrain.columns = vec.get_feature_names()\n",
    "    v_dftest.columns = vec.get_feature_names()\n",
    "    \n",
    "    v_dftrain.index = dftrain.index\n",
    "    v_dftest.index = dftest.index\n",
    "\n",
    "    dftrain = dftrain.drop(cols, axis=1)\n",
    "    dftrain = dftrain.join(v_dftrain)\n",
    "\n",
    "    dftest = dftest.drop(cols, axis=1)\n",
    "    dftest = dftest.join(v_dftest)\n",
    "    \n",
    "    return dftrain, dftest\n",
    "\n",
    "\n",
    "df1 = pd.DataFrame(['c1', 'c2', 'c3', 'c4', 'c4'], columns=['a'])\n",
    "df1['b'] = ['CA', 'NJ', 'NY', 'CA', 'WA']\n",
    "\n",
    "df2 = pd.DataFrame(['d1', 'd2', 'd3'], columns=['a'])\n",
    "df2['b'] = ['CA', 'NJ', 'NY']\n",
    "\n",
    "print(df1)\n",
    "print(df2)\n",
    "\n",
    "df1, df2 = encode_categorical(df1, df2, ['b'])\n",
    "\n",
    "\n",
    "df1.set_index('a', inplace=True)\n",
    "df2.set_index('a', inplace=True)\n",
    "\n",
    "print(df1)\n",
    "print(df2)\n",
    "\n",
    "df1.groupby(df1.index).sum()"
   ]
  },
  {
   "cell_type": "code",
   "execution_count": 146,
   "metadata": {
    "collapsed": false
   },
   "outputs": [
    {
     "data": {
      "text/plain": [
       "1.4771212547196624"
      ]
     },
     "execution_count": 146,
     "metadata": {},
     "output_type": "execute_result"
    }
   ],
   "source": [
    "np.log10(30)"
   ]
  }
 ],
 "metadata": {
  "kernelspec": {
   "display_name": "Python 3",
   "language": "python",
   "name": "python3"
  },
  "language_info": {
   "codemirror_mode": {
    "name": "ipython",
    "version": 3
   },
   "file_extension": ".py",
   "mimetype": "text/x-python",
   "name": "python",
   "nbconvert_exporter": "python",
   "pygments_lexer": "ipython3",
   "version": "3.4.3"
  }
 },
 "nbformat": 4,
 "nbformat_minor": 0
}
