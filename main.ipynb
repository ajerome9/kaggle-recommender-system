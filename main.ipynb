{
 "cells": [
  {
   "cell_type": "code",
   "execution_count": 1,
   "metadata": {
    "collapsed": false
   },
   "outputs": [],
   "source": [
    "import numpy as np\n",
    "import pandas as pd\n",
    "\n",
    "dn = '/Users/aa/lab/kaggle/couponpurchase/data/'\n",
    "users = pd.read_csv(dn+'common/user_list.csv', parse_dates=['REG_DATE', 'WITHDRAW_DATE'])\n",
    "users.set_index('USER_ID_hash', inplace=True)\n",
    "\n",
    "kens = pd.read_csv(dn+'common/prefecture_locations.csv', \n",
    "                         header=0, encoding='utf-8-sig')\n",
    "\n",
    "def read_cpn_data(file):\n",
    "    cpn = pd.read_csv(dn+file, parse_dates=['DISPFROM', 'DISPEND', 'VALIDFROM', 'VALIDEND'])\n",
    "    cpn = cpn[['COUPON_ID_hash', 'CAPSULE_TEXT', 'GENRE_NAME', 'PRICE_RATE', 'CATALOG_PRICE', 'DISCOUNT_PRICE',\n",
    "              'large_area_name', 'ken_name', 'small_area_name']]\n",
    "    cpn = pd.merge(cpn, kens, left_on=['ken_name'], right_on=['PREF_NAME'])\n",
    "    cpn.drop(['PREFECTUAL_OFFICE', 'PREF_NAME'], inplace=True, axis=1)\n",
    "    cpn.set_index('COUPON_ID_hash', inplace=True)\n",
    "    cpn[['PRICE_RATE', 'CATALOG_PRICE', 'DISCOUNT_PRICE']] = cpn[['PRICE_RATE', 'CATALOG_PRICE', 'DISCOUNT_PRICE']].astype(float)\n",
    "    cpn[['DISCOUNT_PRICE']] = cpn[['DISCOUNT_PRICE']] + 0.01\n",
    "    cpn[['CATALOG_PRICE', 'DISCOUNT_PRICE']] = cpn[['CATALOG_PRICE', 'DISCOUNT_PRICE']].apply(np.log10)\n",
    "    return cpn\n",
    "\n",
    "cpn = read_cpn_data('train/coupon_list_train.csv')\n",
    "cpn_test = read_cpn_data('test/coupon_list_test.csv')\n",
    "prch = pd.read_csv(dn+'train/coupon_detail_train.csv', parse_dates=['I_DATE'])\n",
    "view = pd.read_csv(dn+'train/coupon_visit_train.csv', parse_dates=['I_DATE'])\n",
    "\n",
    "atrain = pd.read_csv(dn+'train/coupon_area_train.csv')\n",
    "atest = pd.read_csv(dn+'test/coupon_area_test.csv')"
   ]
  },
  {
   "cell_type": "markdown",
   "metadata": {},
   "source": [
    "### Choose real data or validation data"
   ]
  },
  {
   "cell_type": "code",
   "execution_count": 2,
   "metadata": {
    "collapsed": false,
    "scrolled": true
   },
   "outputs": [],
   "source": [
    "USE_REAL_DATA = True\n",
    "\n",
    "if USE_REAL_DATA:\n",
    "    past_cpn = cpn\n",
    "    fut_cpn = cpn_test\n",
    "    prch_before = prch\n",
    "    view_before = view\n",
    "    a_past = atrain\n",
    "    a_fut = atest\n",
    "else:\n",
    "    # For local validation\n",
    "    cutoff_date = '2012-06-17'\n",
    "    cpnid_prch_before = prch[prch.I_DATE<cutoff_date].COUPON_ID_hash.unique()\n",
    "    cpnid_prch_after_mixed = prch[prch.I_DATE>=cutoff_date].COUPON_ID_hash.unique()\n",
    "    cpnid_view_before = view[view.I_DATE<cutoff_date].VIEW_COUPON_ID_hash.unique()\n",
    "    \n",
    "    print('Raw: PrchBefore = {}, PrchAfterMixed = {}, ViewBefore = {}'.format(\n",
    "            len(set(cpnid_prch_before)), len(set(cpnid_prch_after_mixed)),\n",
    "            len(set(cpnid_view_before))))\n",
    "\n",
    "    # fut_cpn should not include cpns that were either purchased or viewed before\n",
    "    cpnid_prch_after_clean = set(cpnid_prch_after_mixed) - set(cpnid_prch_before) - set(cpnid_view_before)\n",
    "\n",
    "    prch_before = prch[prch.I_DATE<cutoff_date]\n",
    "    view_before = view[view.I_DATE<cutoff_date]\n",
    "\n",
    "    past_cpn = cpn[cpn.index.isin(cpnid_prch_before)]\n",
    "    fut_cpn = cpn[cpn.index.isin(cpnid_prch_after_clean)]\n",
    "    \n",
    "    a_past = atrain[atrain.COUPON_ID_hash.isin(cpnid_prch_before)]\n",
    "    a_fut = atrain[atrain.COUPON_ID_hash.isin(cpnid_prch_after_clean)]\n",
    "    \n",
    "    print('Processed: past_cpn = {}, fut_cpn = {}'.format(len(past_cpn), len(fut_cpn)))"
   ]
  },
  {
   "cell_type": "markdown",
   "metadata": {},
   "source": [
    "### Encode categorical features"
   ]
  },
  {
   "cell_type": "code",
   "execution_count": 3,
   "metadata": {
    "collapsed": false
   },
   "outputs": [],
   "source": [
    "from sklearn.feature_extraction import DictVectorizer\n",
    "\n",
    "def encode_categorical(dftrain, dftest, cols, sep='_'):\n",
    "    vec = DictVectorizer(separator=sep)\n",
    "    v_dftrain = pd.DataFrame(vec.fit_transform(dftrain[cols].to_dict(orient='records')).toarray())\n",
    "    v_dftest = pd.DataFrame(vec.transform(dftest[cols].to_dict(orient='records')).toarray())\n",
    "    \n",
    "    v_dftrain.columns = vec.get_feature_names()\n",
    "    v_dftest.columns = vec.get_feature_names()\n",
    "    \n",
    "    v_dftrain.index = dftrain.index\n",
    "    v_dftest.index = dftest.index\n",
    "\n",
    "    dftrain = dftrain.drop(cols, axis=1)\n",
    "    dftrain = dftrain.join(v_dftrain)\n",
    "\n",
    "    dftest = dftest.drop(cols, axis=1)\n",
    "    dftest = dftest.join(v_dftest)\n",
    "    \n",
    "    return dftrain, dftest\n",
    "\n",
    "def test_encode_categorical():\n",
    "    np.random.seed(42)\n",
    "    df1 = pd.DataFrame(np.random.randn(5, 1), columns=['a'])\n",
    "    df1['b'] = [np.random.choice(('CA', 'NJ', 'NY')) for i in range(df1.shape[0])]\n",
    "    df1['c'] = [np.random.choice(('Chrome', 'Firefox')) for i in range(df1.shape[0])]\n",
    "\n",
    "    df2 = pd.DataFrame(np.random.randn(3, 1), columns=['a'])\n",
    "    df2['b'] = [np.random.choice(('CA', 'NJ', 'NY', 'WA')) for i in range(df2.shape[0])]\n",
    "    df2['c'] = [np.random.choice(('Chrome', 'Firefox', 'Safari')) for i in range(df2.shape[0])]\n",
    "\n",
    "\n",
    "    # Vectorize the categorical columns: e & f\n",
    "    cols=['b', 'c']\n",
    "\n",
    "    print(df1)\n",
    "    print(df2)\n",
    "\n",
    "    df1, df2 = encode_categorical(df1, df2, cols)\n",
    "\n",
    "    print(df1)\n",
    "    print(df2)"
   ]
  },
  {
   "cell_type": "code",
   "execution_count": 4,
   "metadata": {
    "collapsed": false
   },
   "outputs": [],
   "source": [
    "a_past, a_fut = encode_categorical(a_past, a_fut, ['PREF_NAME', 'SMALL_AREA_NAME'], sep='-ar-')\n",
    "a_past.set_index('COUPON_ID_hash', inplace=True)\n",
    "a_fut.set_index('COUPON_ID_hash', inplace=True)\n",
    "a_past = a_past.groupby(a_past.index).sum()\n",
    "a_fut = a_fut.groupby(a_fut.index).sum()\n",
    "a_past = a_past*0.35\n",
    "a_fut = a_fut*0.35\n",
    "past_cpn = pd.merge(past_cpn, a_past, how='left', left_index=True, right_index=True)\n",
    "fut_cpn = pd.merge(fut_cpn, a_fut, how='left', left_index=True, right_index=True)"
   ]
  },
  {
   "cell_type": "code",
   "execution_count": 5,
   "metadata": {
    "collapsed": true
   },
   "outputs": [],
   "source": [
    "p1, f1 = encode_categorical(past_cpn, fut_cpn, ['CAPSULE_TEXT', 'GENRE_NAME',\n",
    "                                                'large_area_name', 'ken_name', \n",
    "                                                'small_area_name'])"
   ]
  },
  {
   "cell_type": "markdown",
   "metadata": {},
   "source": [
    "### Scaling"
   ]
  },
  {
   "cell_type": "raw",
   "metadata": {},
   "source": [
    "Lat/Long\n",
    "--------\n",
    "# 0.014359 - no lat/long\n",
    "# 0.014493 - lat/long scaled to [0,3]\n",
    "# 0.014433 - lat/long scaled to [0,2]\n",
    "# 0.014539 - lat/long scaled to [0,4]\n",
    "# 0.014697 - lat/long scaled to [0,10] (0.064511, 0.176545, 0.207165, 0.260279, 1.0)\n",
    "# 0.014620 - lat/long unscaled         (0.043605, 0.146482, 0.184619, 0.259464, 1.0)\n",
    "# 0.014714 - lat/long scaled to [0,13] (0.050858, 0.154078, 0.190082, 0.259845, 1.0)\n",
    "# 0.014629 - lat/long scaled to [0,17] (0.039596, 0.129314, 0.168430, 0.259016, 1.0)\n",
    "# Submitted- lat/long scaled to [0,13] (0.050858, 0.145891, 0.185749, 0.259507, 1.0)\n",
    "\n",
    "DispPeriod\n",
    "----------\n",
    "# 0.013326 - DispPrd  scaled to  [0,1]   (0.050858, 0.154070, 0.190063, 0.259788, 1.0)\n",
    "# 0.012780 - DispPrd  scaled to  [0,2]   (0.050857, 0.153995, 0.190005, 0.259612, 1.0)\n",
    "# 0.014431 - DispPrd  scaled to  [0,0.3] (0.050858, 0.154077, 0.190080, 0.259840, 1.0)\n",
    "When DispPeriod was added, CV score declined from 0.014714 to 0.014431.\n",
    "Hence not including this feature.\n",
    "\n",
    "ValidPeriod\n",
    "-----------\n",
    "# 0.013639 - ValidPrd scaled to  [0,1]   (0.050808, 0.153839, 0.189546, 0.258417, 1.0)\n",
    "# 0.012791 - ValidPrd scaled to  [0,2]   (0.050604, 0.152665, 0.187500, 0.255182, 1.0)\n",
    "When ValidPeriod was added, CV score declined from 0.014714 to 0.013639.\n",
    "Hence not including this feature.\n",
    "\n",
    "Purchases.ItemCount (PrevBest: 0.014714)\n",
    "-------------------\n",
    "# 0.013822 - Multiply sim item score by ItemCount\n",
    "# 0.014670 - Multiply by (expit(2*ItemCount)+0.11920292202211769)\n",
    "# 0.008563 - Multiply by (np.log2(ItemCount))\n",
    "# 0.008448 - Multiply by (np.log10(ItemCount))\n",
    "When sim_score was multipled by ItemCount, CV score declined from 0.014714 to 0.014670\n",
    "Hence not including this feature.\n"
   ]
  },
  {
   "cell_type": "code",
   "execution_count": 6,
   "metadata": {
    "collapsed": false
   },
   "outputs": [],
   "source": [
    "from sklearn.preprocessing import MinMaxScaler\n",
    "def scale_cpn_attrs(cpn_train, cpn_test):\n",
    "    attrs = ['PRICE_RATE','CATALOG_PRICE', 'DISCOUNT_PRICE', 'LATITUDE', 'LONGITUDE']\n",
    "    max_values = {'PRICE_RATE':1, 'CATALOG_PRICE':1, 'DISCOUNT_PRICE':1,\n",
    "                  'LATITUDE':13, 'LONGITUDE':13}\n",
    "    for a in attrs:\n",
    "        scaler = MinMaxScaler(feature_range=(0,max_values[a]))\n",
    "        cpn_train[[a]] = scaler.fit_transform(cpn_train[[a]])\n",
    "        cpn_test[[a]] = scaler.transform(cpn_test[[a]])\n",
    "    return cpn_train, cpn_test\n",
    "\n",
    "p1, f1 = scale_cpn_attrs(p1, f1)"
   ]
  },
  {
   "cell_type": "code",
   "execution_count": 8,
   "metadata": {
    "collapsed": false
   },
   "outputs": [],
   "source": [
    "#           PriceRate  P1    P2   Lat  Lon T1 T2\n",
    "#c1 = np.array([.5,    3.00, 2.69, 0.8, 2.0, 0, 0])\n",
    "#c2 = np.array([.6,    3.30, 3.07, 0.6, 1.2, 0, 0])\n",
    "#c3 = np.array([.1,    4.00, 3.90, 2.6, 3.0, 1, 1])\n",
    "#dist_fn = lambda ca,cb: (1/(1+np.sqrt((np.sum(np.power(ca - cb, 2))))))\n",
    "#print(dist_fn(c1, c2), dist_fn(c1, c3), dist_fn(c2, c3))"
   ]
  },
  {
   "cell_type": "markdown",
   "metadata": {},
   "source": [
    "## Compute sim_matrix"
   ]
  },
  {
   "cell_type": "code",
   "execution_count": 9,
   "metadata": {
    "collapsed": false
   },
   "outputs": [
    {
     "name": "stdout",
     "output_type": "stream",
     "text": [
      "0\n",
      "1000\n",
      "2000\n",
      "3000\n",
      "4000\n",
      "5000\n",
      "6000\n",
      "7000\n",
      "8000\n",
      "9000\n",
      "10000\n",
      "11000\n",
      "12000\n",
      "13000\n",
      "14000\n",
      "15000\n",
      "16000\n",
      "17000\n",
      "18000\n",
      "19000\n",
      "19413\n"
     ]
    }
   ],
   "source": [
    "def new_sim_distance(p1, f1, idx):\n",
    "    return (1/(1+np.sqrt((np.sum(np.power(f1 - p1.loc[idx], 2), axis=1)))))\n",
    "\n",
    "sim_matrix = {}\n",
    "for i, idx in enumerate(p1.index):\n",
    "    if (i%1000 == 0):\n",
    "        print(i)\n",
    "    sim_matrix[idx] = new_sim_distance(p1, f1, idx)\n",
    "print(len(sim_matrix))"
   ]
  },
  {
   "cell_type": "markdown",
   "metadata": {},
   "source": [
    "## Compute most similar items for each user"
   ]
  },
  {
   "cell_type": "code",
   "execution_count": 10,
   "metadata": {
    "collapsed": false,
    "scrolled": false
   },
   "outputs": [
    {
     "name": "stdout",
     "output_type": "stream",
     "text": [
      "1.0 0.983313246982 0.935110344111 0.860991896331 0.554313266133 0.108626532265 0.0548279573604\n"
     ]
    },
    {
     "data": {
      "image/png": "[encoded data removed]",
      "text/plain": [
       "<matplotlib.figure.Figure at 0x10ecf5198>"
      ]
     },
     "metadata": {},
     "output_type": "display_data"
    }
   ],
   "source": [
    "from matplotlib import pyplot as plt\n",
    "from scipy.special import expit\n",
    "%matplotlib inline\n",
    "\n",
    "x = np.linspace(-1,400,100)\n",
    "scale_fn = lambda x: 1.0543132661328272 - (1 / (1 + np.exp(-(x-100)/35)))\n",
    "y = scale_fn(x)\n",
    "plt.plot(x, y)\n",
    "print(scale_fn(0), scale_fn(10), scale_fn(30), scale_fn(50), \n",
    "      scale_fn(100), scale_fn(200), scale_fn(365))\n",
    "\n",
    "# for dampening the effect of views way in the past\n",
    "scaling_factor = {}\n",
    "for x in range(-1,500):\n",
    "    scaling_factor[x] = scale_fn(x)"
   ]
  },
  {
   "cell_type": "code",
   "execution_count": 11,
   "metadata": {
    "collapsed": false
   },
   "outputs": [
    {
     "data": {
      "image/png": "[encoded data removed]",
      "text/plain": [
       "<matplotlib.figure.Figure at 0x103796940>"
      ]
     },
     "metadata": {},
     "output_type": "display_data"
    }
   ],
   "source": [
    "# for strengthening the effect of recent views\n",
    "# Orig: recent_views_weight_fn = lambda x: 5.3271 - 3.7962e-01*x + 1.0245e-02*x**2 - 8.0264e-05*x**3\n",
    "recent_views_weight_fn = lambda x: 5.3271 - 3.7962e-01*x + 1.0245e-02*x**2 - 8.0264e-05*x**3\n",
    "#recent_views_weight_fn = lambda x: 1\n",
    "\n",
    "x = np.linspace(1, 35, 100)\n",
    "plt.plot(x, recent_views_weight_fn(x))\n",
    "\n",
    "recent_views_weight = {}\n",
    "for x in range(-1,35):\n",
    "    recent_views_weight[x] = recent_views_weight_fn(x)"
   ]
  },
  {
   "cell_type": "code",
   "execution_count": 12,
   "metadata": {
    "collapsed": true
   },
   "outputs": [],
   "source": [
    "from collections import defaultdict\n",
    "topn = 10\n",
    "\n",
    "prch_dict = defaultdict(list)\n",
    "for arr in prch_before.values:\n",
    "    prch_dict[arr[4]].append(arr[5])\n",
    "    \n",
    "max_view_date = view_before.I_DATE.max()\n",
    "view_dict = defaultdict(list)\n",
    "for arr in view_before.values:\n",
    "    days_since_view = (max_view_date-arr[1]).days\n",
    "    view_dict[arr[5]].append((arr[4], days_since_view))\n",
    "\n",
    "sim_matrix_topn = {}\n",
    "for k in sim_matrix:\n",
    "    sim = sim_matrix[k]\n",
    "    sim_topn = sim.nlargest(n=topn)\n",
    "    sim_matrix_topn[k] = sim_topn"
   ]
  },
  {
   "cell_type": "code",
   "execution_count": 13,
   "metadata": {
    "collapsed": false,
    "scrolled": false
   },
   "outputs": [
    {
     "name": "stdout",
     "output_type": "stream",
     "text": [
      "0\n",
      "1000\n",
      "2000\n",
      "3000\n",
      "4000\n",
      "5000\n",
      "6000\n",
      "7000\n",
      "8000\n",
      "9000\n",
      "10000\n",
      "11000\n",
      "12000\n",
      "13000\n",
      "14000\n",
      "15000\n",
      "16000\n",
      "17000\n",
      "18000\n",
      "19000\n",
      "20000\n",
      "21000\n",
      "22000\n"
     ]
    }
   ],
   "source": [
    "import csv\n",
    "import heapq\n",
    "\n",
    "pred = []\n",
    "\n",
    "for i, ui in enumerate(users.index):\n",
    "    if (i%1000 == 0):\n",
    "        print(i)\n",
    "    pred_usr = defaultdict(float)\n",
    "    \n",
    "    usr_prch = prch_dict[ui]\n",
    "    for cpn_id in usr_prch:\n",
    "        sim_topn = sim_matrix_topn[cpn_id]\n",
    "        for topper in sim_topn.iteritems():\n",
    "            pred_usr[topper[0]] += topper[1]\n",
    "            \n",
    "    usr_view = view_dict[ui]\n",
    "    for cpn_id, cpn_days in usr_view:\n",
    "        if cpn_id in sim_matrix_topn:\n",
    "            sim_topn = sim_matrix_topn[cpn_id]\n",
    "            for topper in sim_topn.iteritems():\n",
    "                if cpn_days <= 30:\n",
    "                    pred_usr[topper[0]] += (topper[1] * recent_views_weight[cpn_days])\n",
    "                else:\n",
    "                    pred_usr[topper[0]] += (topper[1] * 0.1 * scaling_factor[cpn_days])\n",
    "                \n",
    "            \n",
    "    topn_for_usr = heapq.nlargest(topn, pred_usr, key=pred_usr.get)\n",
    "    pred.append([ui, ' '.join(topn_for_usr)])\n",
    "\n",
    "with open('s-output-017.csv', 'w') as f:\n",
    "    a = csv.writer(f)\n",
    "    a.writerow(['USER_ID_hash', 'PURCHASED_COUPONS'])\n",
    "    a.writerows(pred)"
   ]
  },
  {
   "cell_type": "code",
   "execution_count": 14,
   "metadata": {
    "collapsed": false
   },
   "outputs": [],
   "source": [
    "#from scoring import read_csv_purchases as rcsv, mapk\n",
    "#print(mapk(rcsv('actual-010.csv'), rcsv('output-014.csv')))"
   ]
  }
 ],
 "metadata": {
  "kernelspec": {
   "display_name": "Python 3",
   "language": "python",
   "name": "python3"
  },
  "language_info": {
   "codemirror_mode": {
    "name": "ipython",
    "version": 3
   },
   "file_extension": ".py",
   "mimetype": "text/x-python",
   "name": "python",
   "nbconvert_exporter": "python",
   "pygments_lexer": "ipython3",
   "version": "3.4.4"
  }
 },
 "nbformat": 4,
 "nbformat_minor": 0
}
